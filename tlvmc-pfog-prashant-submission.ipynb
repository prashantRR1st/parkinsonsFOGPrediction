{
 "cells": [
  {
   "cell_type": "code",
   "execution_count": 1,
   "id": "09c69e30",
   "metadata": {
    "_cell_guid": "b1076dfc-b9ad-4769-8c92-a6c4dae69d19",
    "_uuid": "8f2839f25d086af736a60e9eeb907d3b93b6e0e5",
    "execution": {
     "iopub.execute_input": "2023-06-05T00:40:19.217477Z",
     "iopub.status.busy": "2023-06-05T00:40:19.217014Z",
     "iopub.status.idle": "2023-06-05T00:40:19.386717Z",
     "shell.execute_reply": "2023-06-05T00:40:19.385815Z"
    },
    "papermill": {
     "duration": 0.180206,
     "end_time": "2023-06-05T00:40:19.389725",
     "exception": false,
     "start_time": "2023-06-05T00:40:19.209519",
     "status": "completed"
    },
    "tags": []
   },
   "outputs": [
    {
     "name": "stdout",
     "output_type": "stream",
     "text": [
      "Number of series with events:  535\n",
      "defogCt:  91 , tdcsfogCt:  411 , notypeCt:  33\n"
     ]
    }
   ],
   "source": [
    "# This Python 3 environment comes with many helpful analytics libraries installed\n",
    "# It is defined by the kaggle/python Docker image: https://github.com/kaggle/docker-python\n",
    "# For example, here's several helpful packages to load\n",
    "\n",
    "import numpy as np # linear algebra\n",
    "import pandas as pd # data processing, CSV file I/O (e.g. pd.read_csv)\n",
    "import csv\n",
    "import os\n",
    "\n",
    "#defog=91, tdcsfog=833\n",
    "\n",
    "seriesWithEvents = []\n",
    "with open('/kaggle/input/tlvmc-parkinsons-freezing-gait-prediction/events.csv', newline='') as csvfile:\n",
    "    spamreader = csv.reader(csvfile, delimiter=',', quotechar='|')\n",
    "    for row in spamreader:\n",
    "        if row[0] != 'Id' and row[0] not in seriesWithEvents:\n",
    "            seriesWithEvents.append(row[0])\n",
    "\n",
    "#print(seriesWithEvents)\n",
    "print('Number of series with events: ', len(seriesWithEvents))\n",
    "\n",
    "defogCt, tdcsfogCt, notypeCt = 0, 0, 0\n",
    "defogSeries, tdcsfogSeries, notypeSeries = [], [], []\n",
    "for dirname, _, filenames in os.walk('/kaggle/input/tlvmc-parkinsons-freezing-gait-prediction/'):\n",
    "    for filename in filenames:\n",
    "        if 'unlabeled' not in dirname and 'test' not in dirname and filename not in ['sample_submission.csv','subjects.csv','tasks.csv','defog_metadata.csv','daily_metadata.csv','events.csv','tdcsfog_metadata.csv'] and filename.replace('.csv', '') in seriesWithEvents:\n",
    "            if 'defog' in dirname: \n",
    "                defogCt += 1\n",
    "                defogSeries.append(filename)\n",
    "            if 'tdcsfog' in dirname: \n",
    "                tdcsfogCt += 1\n",
    "                tdcsfogSeries.append(filename)\n",
    "            if 'notype' in dirname: \n",
    "                notypeCt += 1\n",
    "                notypeSeries.append(filename)\n",
    "            #print(os.path.join(dirname.replace('/kaggle/input/tlvmc-parkinsons-freezing-gait-prediction/train/', ''), filename))\n",
    "\n",
    "# You can write up to 20GB to the current directory (/kaggle/working/) that gets preserved as output when you create a version using \"Save & Run All\" \n",
    "# You can also write temporary files to /kaggle/temp/, but they won't be saved outside of the current session\n",
    "print('defogCt: ', defogCt, ', tdcsfogCt: ',tdcsfogCt, ', notypeCt: ', notypeCt)"
   ]
  },
  {
   "cell_type": "code",
   "execution_count": 2,
   "id": "4e74a56b",
   "metadata": {
    "execution": {
     "iopub.execute_input": "2023-06-05T00:40:19.401603Z",
     "iopub.status.busy": "2023-06-05T00:40:19.401323Z",
     "iopub.status.idle": "2023-06-05T00:40:19.405903Z",
     "shell.execute_reply": "2023-06-05T00:40:19.404924Z"
    },
    "papermill": {
     "duration": 0.013103,
     "end_time": "2023-06-05T00:40:19.408145",
     "exception": false,
     "start_time": "2023-06-05T00:40:19.395042",
     "status": "completed"
    },
    "tags": []
   },
   "outputs": [],
   "source": [
    "from decimal import Decimal\n",
    "import shutil\n",
    "\n",
    "trainPath = '/kaggle/input/tlvmc-parkinsons-freezing-gait-prediction/train/'\n",
    "defogBasePath, tdcsfogBasePath, notypeBasePath = trainPath+'defog/',trainPath+'tdcsfog/', trainPath+'notype/'"
   ]
  },
  {
   "cell_type": "code",
   "execution_count": 3,
   "id": "3b9e4a02",
   "metadata": {
    "execution": {
     "iopub.execute_input": "2023-06-05T00:40:19.419841Z",
     "iopub.status.busy": "2023-06-05T00:40:19.419587Z",
     "iopub.status.idle": "2023-06-05T00:40:19.450783Z",
     "shell.execute_reply": "2023-06-05T00:40:19.450010Z"
    },
    "papermill": {
     "duration": 0.039401,
     "end_time": "2023-06-05T00:40:19.452776",
     "exception": false,
     "start_time": "2023-06-05T00:40:19.413375",
     "status": "completed"
    },
    "tags": []
   },
   "outputs": [],
   "source": [
    "def calculateJerkWinAvSq(Acc_2_prev, Acc_1_prev, Acc_0, Acc_1, Acc_2, sampleRate):\n",
    "    timeStep = Decimal(1/sampleRate)\n",
    "    return(Decimal(0.125)*(((Acc_1_prev-Acc_2_prev)/timeStep)**2+((Acc_2-Acc_1)/timeStep)**2)+Decimal(0.375)*(((Acc_0-Acc_1_prev)/timeStep)**2+((Acc_1-Acc_0)/timeStep)**2)) \n",
    "\n",
    "def calculateJWASEdge(Acc_0, Acc_adjacent, Acc_next_adjacent, sampleRate):\n",
    "    timeStep = Decimal(1/sampleRate)\n",
    "    return(Decimal(0.75)*(((Acc_adjacent - Acc_0)/timeStep)**2)+Decimal(0.25)*(((Acc_next_adjacent - Acc_adjacent)/timeStep)**2))\n",
    "\n",
    "def calculateJWASEdgeAdjacent(Acc_0, Acc_adjacent_1, Acc_adjacent_2, Acc_next_adjacent, sampleRate):\n",
    "    timeStep = Decimal(1/sampleRate)\n",
    "    return(Decimal(0.375)*(((Acc_0 - Acc_adjacent_1)**2+((Acc_0 - Acc_adjacent_2)/timeStep)**2))+Decimal(0.25)*(((Acc_next_adjacent - Acc_adjacent_2)/timeStep)**2))\n",
    "\n",
    "def initOutputDirectory(outputPath):\n",
    "    try:\n",
    "        os.mkdir(outputPath)\n",
    "    except:\n",
    "        shutil.rmtree(outputPath)\n",
    "        os.mkdir(outputPath)\n",
    "\n",
    "def preProcessDefog(basePath, fileList):\n",
    "    outputPath = '/kaggle/working/pruned_'+basePath.replace(trainPath, '')\n",
    "    initOutputDirectory(outputPath)\n",
    "    \n",
    "    AccVIndex, AccMLIndex, AccAPIndex = 1, 2, 3\n",
    "    StartHesIndex, WalkIndex = 4, 6\n",
    "    \n",
    "    for file in fileList:\n",
    "        with open(basePath+file, 'r', newline='') as ogCsv, open(outputPath+file, 'w', newline='') as outputCsv:\n",
    "            ogCsvReader = csv.reader(ogCsv, delimiter=',', quotechar='|')\n",
    "            outputCsvWriter = csv.writer(outputCsv, delimiter=',', quotechar='|', quoting=csv.QUOTE_MINIMAL)\n",
    "            listOgCsvReader = list(ogCsvReader)\n",
    "            numRows = len(listOgCsvReader)\n",
    "            for rowNum, row in enumerate(listOgCsvReader):\n",
    "                if rowNum == 0 or (row[-1] == 'Task' and row[-2] == 'Valid'):\n",
    "                    outputCsvWriter.writerow(row + ['JerkWinAvSqV', 'JerkWinAvSqML', 'JerkWinAvSqAP'])\n",
    "                elif rowNum == 1:\n",
    "                    JerkWinAvSqV = calculateJWASEdge(Decimal(listOgCsvReader[rowNum][AccVIndex]), Decimal(listOgCsvReader[rowNum+1][AccVIndex]), Decimal(listOgCsvReader[rowNum+2][AccVIndex]), 128)\n",
    "                    JerkWinAvSqML = calculateJWASEdge(Decimal(listOgCsvReader[rowNum][AccMLIndex]), Decimal(listOgCsvReader[rowNum+1][AccMLIndex]), Decimal(listOgCsvReader[rowNum+2][AccMLIndex]), 128)\n",
    "                    JerkWinAvSqAP = calculateJWASEdge(Decimal(listOgCsvReader[rowNum][AccAPIndex]), Decimal(listOgCsvReader[rowNum+1][AccAPIndex]), Decimal(listOgCsvReader[rowNum+2][AccAPIndex]), 128)\n",
    "                    outputCsvWriter.writerow(row + [JerkWinAvSqV, JerkWinAvSqML, JerkWinAvSqAP])\n",
    "                elif rowNum == 2:\n",
    "                    JerkWinAvSqV = calculateJWASEdgeAdjacent(Decimal(listOgCsvReader[rowNum][AccVIndex]), Decimal(listOgCsvReader[rowNum-1][AccVIndex]), Decimal(listOgCsvReader[rowNum+1][AccVIndex]), Decimal(listOgCsvReader[rowNum+2][AccVIndex]), 128)\n",
    "                    JerkWinAvSqML = calculateJWASEdgeAdjacent(Decimal(listOgCsvReader[rowNum][AccMLIndex]), Decimal(listOgCsvReader[rowNum-1][AccMLIndex]), Decimal(listOgCsvReader[rowNum+1][AccMLIndex]), Decimal(listOgCsvReader[rowNum+2][AccMLIndex]), 128)\n",
    "                    JerkWinAvSqAP = calculateJWASEdgeAdjacent(Decimal(listOgCsvReader[rowNum][AccAPIndex]), Decimal(listOgCsvReader[rowNum-1][AccAPIndex]), Decimal(listOgCsvReader[rowNum+1][AccAPIndex]), Decimal(listOgCsvReader[rowNum+2][AccAPIndex]), 128)\n",
    "                    outputCsvWriter.writerow(row + [JerkWinAvSqV, JerkWinAvSqML, JerkWinAvSqAP])\n",
    "                elif rowNum == numRows-1:\n",
    "                    JerkWinAvSqV = calculateJWASEdge(Decimal(listOgCsvReader[rowNum][AccVIndex]), Decimal(listOgCsvReader[rowNum-1][AccVIndex]), Decimal(listOgCsvReader[rowNum-2][AccVIndex]), 128)\n",
    "                    JerkWinAvSqML = calculateJWASEdge(Decimal(listOgCsvReader[rowNum][AccMLIndex]), Decimal(listOgCsvReader[rowNum-1][AccMLIndex]), Decimal(listOgCsvReader[rowNum-2][AccMLIndex]), 128)\n",
    "                    JerkWinAvSqAP = calculateJWASEdge(Decimal(listOgCsvReader[rowNum][AccAPIndex]), Decimal(listOgCsvReader[rowNum-1][AccAPIndex]), Decimal(listOgCsvReader[rowNum-2][AccAPIndex]), 128)\n",
    "                    outputCsvWriter.writerow(row + [JerkWinAvSqV, JerkWinAvSqML, JerkWinAvSqAP])\n",
    "                elif rowNum == numRows-2:\n",
    "                    JerkWinAvSqV = calculateJWASEdgeAdjacent(Decimal(listOgCsvReader[rowNum][AccVIndex]), Decimal(listOgCsvReader[rowNum+1][AccVIndex]), Decimal(listOgCsvReader[rowNum-1][AccVIndex]), Decimal(listOgCsvReader[rowNum-2][AccVIndex]), 128)\n",
    "                    JerkWinAvSqML = calculateJWASEdgeAdjacent(Decimal(listOgCsvReader[rowNum][AccMLIndex]), Decimal(listOgCsvReader[rowNum+1][AccMLIndex]), Decimal(listOgCsvReader[rowNum-1][AccMLIndex]), Decimal(listOgCsvReader[rowNum-2][AccMLIndex]), 128)\n",
    "                    JerkWinAvSqAP = calculateJWASEdgeAdjacent(Decimal(listOgCsvReader[rowNum][AccAPIndex]), Decimal(listOgCsvReader[rowNum+1][AccAPIndex]), Decimal(listOgCsvReader[rowNum-1][AccAPIndex]), Decimal(listOgCsvReader[rowNum-2][AccAPIndex]), 128)\n",
    "                    outputCsvWriter.writerow(row + [JerkWinAvSqV, JerkWinAvSqML, JerkWinAvSqAP])\n",
    "                elif (row[-1] == 'true' and row[-2] == 'true'):\n",
    "                    JerkWinAvSqV = calculateJerkWinAvSq(Decimal(listOgCsvReader[rowNum-2][AccVIndex]), Decimal(listOgCsvReader[rowNum-1][AccVIndex]), Decimal(listOgCsvReader[rowNum][AccVIndex]), Decimal(listOgCsvReader[rowNum+1][AccVIndex]), Decimal(listOgCsvReader[rowNum+2][AccVIndex]), 128)\n",
    "                    JerkWinAvSqML = calculateJerkWinAvSq(Decimal(listOgCsvReader[rowNum-2][AccMLIndex]), Decimal(listOgCsvReader[rowNum-1][AccMLIndex]), Decimal(listOgCsvReader[rowNum][AccMLIndex]), Decimal(listOgCsvReader[rowNum+1][AccMLIndex]), Decimal(listOgCsvReader[rowNum+2][AccMLIndex]), 128)\n",
    "                    JerkWinAvSqAP = calculateJerkWinAvSq(Decimal(listOgCsvReader[rowNum-2][AccAPIndex]), Decimal(listOgCsvReader[rowNum-1][AccAPIndex]), Decimal(listOgCsvReader[rowNum][AccAPIndex]), Decimal(listOgCsvReader[rowNum+1][AccAPIndex]), Decimal(listOgCsvReader[rowNum+2][AccAPIndex]), 128)\n",
    "                    if int(row[StartHesIndex]) == 1 or int(row[WalkIndex]) == 1:\n",
    "                        for x in range(4):\n",
    "                            delta = Decimal((1+x)/100)\n",
    "                            outputCsvWriter.writerow(row + [(JerkWinAvSqV*delta), (JerkWinAvSqML*delta), (JerkWinAvSqAP*delta)])\n",
    "                    outputCsvWriter.writerow(row + [JerkWinAvSqV, JerkWinAvSqML, JerkWinAvSqAP])\n"
   ]
  },
  {
   "cell_type": "code",
   "execution_count": 4,
   "id": "a4dd037c",
   "metadata": {
    "execution": {
     "iopub.execute_input": "2023-06-05T00:40:19.464454Z",
     "iopub.status.busy": "2023-06-05T00:40:19.463756Z",
     "iopub.status.idle": "2023-06-05T00:43:43.646608Z",
     "shell.execute_reply": "2023-06-05T00:43:43.645657Z"
    },
    "papermill": {
     "duration": 204.191495,
     "end_time": "2023-06-05T00:43:43.649244",
     "exception": false,
     "start_time": "2023-06-05T00:40:19.457749",
     "status": "completed"
    },
    "tags": []
   },
   "outputs": [],
   "source": [
    "preProcessDefog(defogBasePath, defogSeries)\n",
    "#preProcessDefog(notypeBasePath, notypeSeries)"
   ]
  },
  {
   "cell_type": "code",
   "execution_count": 5,
   "id": "c7cc1383",
   "metadata": {
    "collapsed": true,
    "execution": {
     "iopub.execute_input": "2023-06-05T00:43:43.661202Z",
     "iopub.status.busy": "2023-06-05T00:43:43.660899Z",
     "iopub.status.idle": "2023-06-05T00:43:43.665073Z",
     "shell.execute_reply": "2023-06-05T00:43:43.664081Z"
    },
    "jupyter": {
     "outputs_hidden": true
    },
    "papermill": {
     "duration": 0.012827,
     "end_time": "2023-06-05T00:43:43.667491",
     "exception": false,
     "start_time": "2023-06-05T00:43:43.654664",
     "status": "completed"
    },
    "tags": []
   },
   "outputs": [],
   "source": [
    "# read output defog file 0\n",
    "# with open('/kaggle/working/pruned_'+defogBasePath.replace(trainPath, '')+defogSeries[0]) as fd:\n",
    "#     reader=csv.reader(fd)\n",
    "#     for row in reader:\n",
    "#         print(row)"
   ]
  },
  {
   "cell_type": "code",
   "execution_count": 6,
   "id": "af68fd45",
   "metadata": {
    "execution": {
     "iopub.execute_input": "2023-06-05T00:43:43.679049Z",
     "iopub.status.busy": "2023-06-05T00:43:43.678795Z",
     "iopub.status.idle": "2023-06-05T00:43:43.703958Z",
     "shell.execute_reply": "2023-06-05T00:43:43.703145Z"
    },
    "papermill": {
     "duration": 0.033457,
     "end_time": "2023-06-05T00:43:43.705932",
     "exception": false,
     "start_time": "2023-06-05T00:43:43.672475",
     "status": "completed"
    },
    "tags": []
   },
   "outputs": [],
   "source": [
    "# https://www.hindawi.com/journals/bmri/2018/7816160/\n",
    "def preProcessTdcsfog(basePath, fileList, outputPath='', sampleRate=100):\n",
    "    isTrainingData = False\n",
    "    \n",
    "    if outputPath == '':\n",
    "        isTrainingData = True\n",
    "        outputPath = '/kaggle/working/pruned_'+basePath.replace(trainPath, '')\n",
    "        initOutputDirectory(outputPath)\n",
    "    \n",
    "    AccVIndex, AccMLIndex, AccAPIndex = 1, 2, 3\n",
    "    StartHesIndex, WalkIndex = 4, 6\n",
    "    \n",
    "    for file in fileList:\n",
    "        with open(basePath+file, 'r', newline='') as ogCsv, open(outputPath+file, 'w', newline='') as outputCsv:\n",
    "            ogCsvReader = csv.reader(ogCsv, delimiter=',', quotechar='|')\n",
    "            outputCsvWriter = csv.writer(outputCsv, delimiter=',', quotechar='|', quoting=csv.QUOTE_MINIMAL)\n",
    "            listOgCsvReader = list(ogCsvReader)\n",
    "            numRows = len(listOgCsvReader)\n",
    "            for rowNum, row in enumerate(listOgCsvReader):\n",
    "                if rowNum == 0:\n",
    "                    outputCsvWriter.writerow(row + ['JerkWinAvSqV', 'JerkWinAvSqML', 'JerkWinAvSqAP'])\n",
    "                elif rowNum == 1:\n",
    "                    JerkWinAvSqV = calculateJWASEdge(Decimal(listOgCsvReader[rowNum][AccVIndex]), Decimal(listOgCsvReader[rowNum+1][AccVIndex]), Decimal(listOgCsvReader[rowNum+2][AccVIndex]), sampleRate)\n",
    "                    JerkWinAvSqML = calculateJWASEdge(Decimal(listOgCsvReader[rowNum][AccMLIndex]), Decimal(listOgCsvReader[rowNum+1][AccMLIndex]), Decimal(listOgCsvReader[rowNum+2][AccMLIndex]), sampleRate)\n",
    "                    JerkWinAvSqAP = calculateJWASEdge(Decimal(listOgCsvReader[rowNum][AccAPIndex]), Decimal(listOgCsvReader[rowNum+1][AccAPIndex]), Decimal(listOgCsvReader[rowNum+2][AccAPIndex]), sampleRate)\n",
    "                    outputCsvWriter.writerow(row + [JerkWinAvSqV, JerkWinAvSqML, JerkWinAvSqAP])\n",
    "                elif rowNum == 2:\n",
    "                    JerkWinAvSqV = calculateJWASEdgeAdjacent(Decimal(listOgCsvReader[rowNum][AccVIndex]), Decimal(listOgCsvReader[rowNum-1][AccVIndex]), Decimal(listOgCsvReader[rowNum+1][AccVIndex]), Decimal(listOgCsvReader[rowNum+2][AccVIndex]), sampleRate)\n",
    "                    JerkWinAvSqML = calculateJWASEdgeAdjacent(Decimal(listOgCsvReader[rowNum][AccMLIndex]), Decimal(listOgCsvReader[rowNum-1][AccMLIndex]), Decimal(listOgCsvReader[rowNum+1][AccMLIndex]), Decimal(listOgCsvReader[rowNum+2][AccMLIndex]), sampleRate)\n",
    "                    JerkWinAvSqAP = calculateJWASEdgeAdjacent(Decimal(listOgCsvReader[rowNum][AccAPIndex]), Decimal(listOgCsvReader[rowNum-1][AccAPIndex]), Decimal(listOgCsvReader[rowNum+1][AccAPIndex]), Decimal(listOgCsvReader[rowNum+2][AccAPIndex]), sampleRate)\n",
    "                    outputCsvWriter.writerow(row + [JerkWinAvSqV, JerkWinAvSqML, JerkWinAvSqAP])\n",
    "                elif rowNum == numRows-1:\n",
    "                    JerkWinAvSqV = calculateJWASEdge(Decimal(listOgCsvReader[rowNum][AccVIndex]), Decimal(listOgCsvReader[rowNum-1][AccVIndex]), Decimal(listOgCsvReader[rowNum-2][AccVIndex]), sampleRate)\n",
    "                    JerkWinAvSqML = calculateJWASEdge(Decimal(listOgCsvReader[rowNum][AccMLIndex]), Decimal(listOgCsvReader[rowNum-1][AccMLIndex]), Decimal(listOgCsvReader[rowNum-2][AccMLIndex]), sampleRate)\n",
    "                    JerkWinAvSqAP = calculateJWASEdge(Decimal(listOgCsvReader[rowNum][AccAPIndex]), Decimal(listOgCsvReader[rowNum-1][AccAPIndex]), Decimal(listOgCsvReader[rowNum-2][AccAPIndex]), sampleRate)\n",
    "                    outputCsvWriter.writerow(row + [JerkWinAvSqV, JerkWinAvSqML, JerkWinAvSqAP])\n",
    "                elif rowNum == numRows-2:\n",
    "                    JerkWinAvSqV = calculateJWASEdgeAdjacent(Decimal(listOgCsvReader[rowNum][AccVIndex]), Decimal(listOgCsvReader[rowNum+1][AccVIndex]), Decimal(listOgCsvReader[rowNum-1][AccVIndex]), Decimal(listOgCsvReader[rowNum-2][AccVIndex]), sampleRate)\n",
    "                    JerkWinAvSqML = calculateJWASEdgeAdjacent(Decimal(listOgCsvReader[rowNum][AccMLIndex]), Decimal(listOgCsvReader[rowNum+1][AccMLIndex]), Decimal(listOgCsvReader[rowNum-1][AccMLIndex]), Decimal(listOgCsvReader[rowNum-2][AccMLIndex]), sampleRate)\n",
    "                    JerkWinAvSqAP = calculateJWASEdgeAdjacent(Decimal(listOgCsvReader[rowNum][AccAPIndex]), Decimal(listOgCsvReader[rowNum+1][AccAPIndex]), Decimal(listOgCsvReader[rowNum-1][AccAPIndex]), Decimal(listOgCsvReader[rowNum-2][AccAPIndex]), sampleRate)\n",
    "                    outputCsvWriter.writerow(row + [JerkWinAvSqV, JerkWinAvSqML, JerkWinAvSqAP])\n",
    "                else:\n",
    "                    JerkWinAvSqV = calculateJerkWinAvSq(Decimal(listOgCsvReader[rowNum-2][AccVIndex]), Decimal(listOgCsvReader[rowNum-1][AccVIndex]), Decimal(listOgCsvReader[rowNum][AccVIndex]), Decimal(listOgCsvReader[rowNum+1][AccVIndex]), Decimal(listOgCsvReader[rowNum+2][AccVIndex]), sampleRate)\n",
    "                    JerkWinAvSqML = calculateJerkWinAvSq(Decimal(listOgCsvReader[rowNum-2][AccMLIndex]), Decimal(listOgCsvReader[rowNum-1][AccMLIndex]), Decimal(listOgCsvReader[rowNum][AccMLIndex]), Decimal(listOgCsvReader[rowNum+1][AccMLIndex]), Decimal(listOgCsvReader[rowNum+2][AccMLIndex]), sampleRate)\n",
    "                    JerkWinAvSqAP = calculateJerkWinAvSq(Decimal(listOgCsvReader[rowNum-2][AccAPIndex]), Decimal(listOgCsvReader[rowNum-1][AccAPIndex]), Decimal(listOgCsvReader[rowNum][AccAPIndex]), Decimal(listOgCsvReader[rowNum+1][AccAPIndex]), Decimal(listOgCsvReader[rowNum+2][AccAPIndex]), sampleRate)\n",
    "                    if isTrainingData and (int(row[StartHesIndex]) == 1 or int(row[WalkIndex]) == 1):\n",
    "                        for x in range(2):\n",
    "                            delta = Decimal((1+x)/100)\n",
    "                            outputCsvWriter.writerow(row + [(JerkWinAvSqV*delta), (JerkWinAvSqML*delta), (JerkWinAvSqAP*delta)])\n",
    "                    outputCsvWriter.writerow(row + [JerkWinAvSqV, JerkWinAvSqML, JerkWinAvSqAP])\n"
   ]
  },
  {
   "cell_type": "code",
   "execution_count": 7,
   "id": "f819d822",
   "metadata": {
    "execution": {
     "iopub.execute_input": "2023-06-05T00:43:43.717510Z",
     "iopub.status.busy": "2023-06-05T00:43:43.716968Z",
     "iopub.status.idle": "2023-06-05T00:47:11.169158Z",
     "shell.execute_reply": "2023-06-05T00:47:11.168190Z"
    },
    "papermill": {
     "duration": 207.46073,
     "end_time": "2023-06-05T00:47:11.171815",
     "exception": false,
     "start_time": "2023-06-05T00:43:43.711085",
     "status": "completed"
    },
    "tags": []
   },
   "outputs": [],
   "source": [
    "preProcessTdcsfog(tdcsfogBasePath, tdcsfogSeries)"
   ]
  },
  {
   "cell_type": "code",
   "execution_count": 8,
   "id": "c6ad29e3",
   "metadata": {
    "collapsed": true,
    "execution": {
     "iopub.execute_input": "2023-06-05T00:47:11.185373Z",
     "iopub.status.busy": "2023-06-05T00:47:11.183652Z",
     "iopub.status.idle": "2023-06-05T00:47:11.188752Z",
     "shell.execute_reply": "2023-06-05T00:47:11.187891Z"
    },
    "jupyter": {
     "outputs_hidden": true
    },
    "papermill": {
     "duration": 0.013328,
     "end_time": "2023-06-05T00:47:11.190782",
     "exception": false,
     "start_time": "2023-06-05T00:47:11.177454",
     "status": "completed"
    },
    "tags": []
   },
   "outputs": [],
   "source": [
    "# a = 0\n",
    "# for dirname, _, filenames in os.walk('/kaggle/working/pruned_tdcsfog/'):\n",
    "#     for filename in filenames:\n",
    "#         print(filename)\n",
    "#         a+=1\n",
    "# print(a)"
   ]
  },
  {
   "cell_type": "code",
   "execution_count": 9,
   "id": "a9538a1e",
   "metadata": {
    "execution": {
     "iopub.execute_input": "2023-06-05T00:47:11.202187Z",
     "iopub.status.busy": "2023-06-05T00:47:11.201917Z",
     "iopub.status.idle": "2023-06-05T00:47:23.362325Z",
     "shell.execute_reply": "2023-06-05T00:47:23.361214Z"
    },
    "papermill": {
     "duration": 12.168991,
     "end_time": "2023-06-05T00:47:23.364795",
     "exception": false,
     "start_time": "2023-06-05T00:47:11.195804",
     "status": "completed"
    },
    "tags": []
   },
   "outputs": [
    {
     "name": "stdout",
     "output_type": "stream",
     "text": [
      "Looking in links: file:///kaggle/input/keras-tcn/\r\n",
      "Processing /kaggle/input/keras-tcn/keras_tcn-3.5.0-py3-none-any.whl\r\n",
      "Requirement already satisfied: numpy in /opt/conda/lib/python3.10/site-packages (from keras-tcn) (1.23.5)\r\n",
      "Requirement already satisfied: tensorflow in /opt/conda/lib/python3.10/site-packages (from keras-tcn) (2.12.0)\r\n",
      "Requirement already satisfied: tensorflow-addons in /opt/conda/lib/python3.10/site-packages (from keras-tcn) (0.20.0)\r\n",
      "Requirement already satisfied: absl-py>=1.0.0 in /opt/conda/lib/python3.10/site-packages (from tensorflow->keras-tcn) (1.4.0)\r\n",
      "Requirement already satisfied: astunparse>=1.6.0 in /opt/conda/lib/python3.10/site-packages (from tensorflow->keras-tcn) (1.6.3)\r\n",
      "Requirement already satisfied: flatbuffers>=2.0 in /opt/conda/lib/python3.10/site-packages (from tensorflow->keras-tcn) (23.3.3)\r\n",
      "Requirement already satisfied: gast<=0.4.0,>=0.2.1 in /opt/conda/lib/python3.10/site-packages (from tensorflow->keras-tcn) (0.4.0)\r\n",
      "Requirement already satisfied: google-pasta>=0.1.1 in /opt/conda/lib/python3.10/site-packages (from tensorflow->keras-tcn) (0.2.0)\r\n",
      "Requirement already satisfied: grpcio<2.0,>=1.24.3 in /opt/conda/lib/python3.10/site-packages (from tensorflow->keras-tcn) (1.51.1)\r\n",
      "Requirement already satisfied: h5py>=2.9.0 in /opt/conda/lib/python3.10/site-packages (from tensorflow->keras-tcn) (3.8.0)\r\n",
      "Requirement already satisfied: jax>=0.3.15 in /opt/conda/lib/python3.10/site-packages (from tensorflow->keras-tcn) (0.4.10)\r\n",
      "Requirement already satisfied: keras<2.13,>=2.12.0 in /opt/conda/lib/python3.10/site-packages (from tensorflow->keras-tcn) (2.12.0)\r\n",
      "Requirement already satisfied: libclang>=13.0.0 in /opt/conda/lib/python3.10/site-packages (from tensorflow->keras-tcn) (16.0.0)\r\n",
      "Requirement already satisfied: opt-einsum>=2.3.2 in /opt/conda/lib/python3.10/site-packages (from tensorflow->keras-tcn) (3.3.0)\r\n",
      "Requirement already satisfied: packaging in /opt/conda/lib/python3.10/site-packages (from tensorflow->keras-tcn) (21.3)\r\n",
      "Requirement already satisfied: protobuf!=4.21.0,!=4.21.1,!=4.21.2,!=4.21.3,!=4.21.4,!=4.21.5,<5.0.0dev,>=3.20.3 in /opt/conda/lib/python3.10/site-packages (from tensorflow->keras-tcn) (3.20.3)\r\n",
      "Requirement already satisfied: setuptools in /opt/conda/lib/python3.10/site-packages (from tensorflow->keras-tcn) (59.8.0)\r\n",
      "Requirement already satisfied: six>=1.12.0 in /opt/conda/lib/python3.10/site-packages (from tensorflow->keras-tcn) (1.16.0)\r\n",
      "Requirement already satisfied: tensorboard<2.13,>=2.12 in /opt/conda/lib/python3.10/site-packages (from tensorflow->keras-tcn) (2.12.3)\r\n",
      "Requirement already satisfied: tensorflow-estimator<2.13,>=2.12.0 in /opt/conda/lib/python3.10/site-packages (from tensorflow->keras-tcn) (2.12.0)\r\n",
      "Requirement already satisfied: termcolor>=1.1.0 in /opt/conda/lib/python3.10/site-packages (from tensorflow->keras-tcn) (2.3.0)\r\n",
      "Requirement already satisfied: typing-extensions>=3.6.6 in /opt/conda/lib/python3.10/site-packages (from tensorflow->keras-tcn) (4.5.0)\r\n",
      "Requirement already satisfied: wrapt<1.15,>=1.11.0 in /opt/conda/lib/python3.10/site-packages (from tensorflow->keras-tcn) (1.14.1)\r\n",
      "Requirement already satisfied: tensorflow-io-gcs-filesystem>=0.23.1 in /opt/conda/lib/python3.10/site-packages (from tensorflow->keras-tcn) (0.31.0)\r\n",
      "Requirement already satisfied: typeguard<3.0.0,>=2.7 in /opt/conda/lib/python3.10/site-packages (from tensorflow-addons->keras-tcn) (2.13.3)\r\n",
      "Requirement already satisfied: wheel<1.0,>=0.23.0 in /opt/conda/lib/python3.10/site-packages (from astunparse>=1.6.0->tensorflow->keras-tcn) (0.40.0)\r\n",
      "Requirement already satisfied: ml-dtypes>=0.1.0 in /opt/conda/lib/python3.10/site-packages (from jax>=0.3.15->tensorflow->keras-tcn) (0.1.0)\r\n",
      "Requirement already satisfied: scipy>=1.7 in /opt/conda/lib/python3.10/site-packages (from jax>=0.3.15->tensorflow->keras-tcn) (1.10.1)\r\n",
      "Requirement already satisfied: google-auth<3,>=1.6.3 in /opt/conda/lib/python3.10/site-packages (from tensorboard<2.13,>=2.12->tensorflow->keras-tcn) (2.17.3)\r\n",
      "Requirement already satisfied: google-auth-oauthlib<1.1,>=0.5 in /opt/conda/lib/python3.10/site-packages (from tensorboard<2.13,>=2.12->tensorflow->keras-tcn) (1.0.0)\r\n",
      "Requirement already satisfied: markdown>=2.6.8 in /opt/conda/lib/python3.10/site-packages (from tensorboard<2.13,>=2.12->tensorflow->keras-tcn) (3.4.3)\r\n",
      "Requirement already satisfied: requests<3,>=2.21.0 in /opt/conda/lib/python3.10/site-packages (from tensorboard<2.13,>=2.12->tensorflow->keras-tcn) (2.28.2)\r\n",
      "Requirement already satisfied: tensorboard-data-server<0.8.0,>=0.7.0 in /opt/conda/lib/python3.10/site-packages (from tensorboard<2.13,>=2.12->tensorflow->keras-tcn) (0.7.0)\r\n",
      "Requirement already satisfied: werkzeug>=1.0.1 in /opt/conda/lib/python3.10/site-packages (from tensorboard<2.13,>=2.12->tensorflow->keras-tcn) (2.3.4)\r\n",
      "Requirement already satisfied: pyparsing!=3.0.5,>=2.0.2 in /opt/conda/lib/python3.10/site-packages (from packaging->tensorflow->keras-tcn) (3.0.9)\r\n",
      "Requirement already satisfied: cachetools<6.0,>=2.0.0 in /opt/conda/lib/python3.10/site-packages (from google-auth<3,>=1.6.3->tensorboard<2.13,>=2.12->tensorflow->keras-tcn) (4.2.4)\r\n",
      "Requirement already satisfied: pyasn1-modules>=0.2.1 in /opt/conda/lib/python3.10/site-packages (from google-auth<3,>=1.6.3->tensorboard<2.13,>=2.12->tensorflow->keras-tcn) (0.2.7)\r\n",
      "Requirement already satisfied: rsa<5,>=3.1.4 in /opt/conda/lib/python3.10/site-packages (from google-auth<3,>=1.6.3->tensorboard<2.13,>=2.12->tensorflow->keras-tcn) (4.9)\r\n",
      "Requirement already satisfied: requests-oauthlib>=0.7.0 in /opt/conda/lib/python3.10/site-packages (from google-auth-oauthlib<1.1,>=0.5->tensorboard<2.13,>=2.12->tensorflow->keras-tcn) (1.3.1)\r\n",
      "Requirement already satisfied: charset-normalizer<4,>=2 in /opt/conda/lib/python3.10/site-packages (from requests<3,>=2.21.0->tensorboard<2.13,>=2.12->tensorflow->keras-tcn) (2.1.1)\r\n",
      "Requirement already satisfied: idna<4,>=2.5 in /opt/conda/lib/python3.10/site-packages (from requests<3,>=2.21.0->tensorboard<2.13,>=2.12->tensorflow->keras-tcn) (3.4)\r\n",
      "Requirement already satisfied: urllib3<1.27,>=1.21.1 in /opt/conda/lib/python3.10/site-packages (from requests<3,>=2.21.0->tensorboard<2.13,>=2.12->tensorflow->keras-tcn) (1.26.15)\r\n",
      "Requirement already satisfied: certifi>=2017.4.17 in /opt/conda/lib/python3.10/site-packages (from requests<3,>=2.21.0->tensorboard<2.13,>=2.12->tensorflow->keras-tcn) (2023.5.7)\r\n",
      "Requirement already satisfied: MarkupSafe>=2.1.1 in /opt/conda/lib/python3.10/site-packages (from werkzeug>=1.0.1->tensorboard<2.13,>=2.12->tensorflow->keras-tcn) (2.1.2)\r\n",
      "Requirement already satisfied: pyasn1<0.5.0,>=0.4.6 in /opt/conda/lib/python3.10/site-packages (from pyasn1-modules>=0.2.1->google-auth<3,>=1.6.3->tensorboard<2.13,>=2.12->tensorflow->keras-tcn) (0.4.8)\r\n",
      "Requirement already satisfied: oauthlib>=3.0.0 in /opt/conda/lib/python3.10/site-packages (from requests-oauthlib>=0.7.0->google-auth-oauthlib<1.1,>=0.5->tensorboard<2.13,>=2.12->tensorflow->keras-tcn) (3.2.2)\r\n",
      "Installing collected packages: keras-tcn\r\n",
      "Successfully installed keras-tcn-3.5.0\r\n",
      "\u001b[33mWARNING: Running pip as the 'root' user can result in broken permissions and conflicting behaviour with the system package manager. It is recommended to use a virtual environment instead: https://pip.pypa.io/warnings/venv\u001b[0m\u001b[33m\r\n",
      "\u001b[0m"
     ]
    }
   ],
   "source": [
    "!pip install keras-tcn --no-index --find-links=file:///kaggle/input/keras-tcn/ "
   ]
  },
  {
   "cell_type": "code",
   "execution_count": 10,
   "id": "24505637",
   "metadata": {
    "execution": {
     "iopub.execute_input": "2023-06-05T00:47:23.379644Z",
     "iopub.status.busy": "2023-06-05T00:47:23.378707Z",
     "iopub.status.idle": "2023-06-05T00:47:32.233125Z",
     "shell.execute_reply": "2023-06-05T00:47:32.232200Z"
    },
    "papermill": {
     "duration": 8.864345,
     "end_time": "2023-06-05T00:47:32.235567",
     "exception": false,
     "start_time": "2023-06-05T00:47:23.371222",
     "status": "completed"
    },
    "tags": []
   },
   "outputs": [
    {
     "name": "stderr",
     "output_type": "stream",
     "text": [
      "/opt/conda/lib/python3.10/site-packages/tensorflow_io/python/ops/__init__.py:98: UserWarning: unable to load libtensorflow_io_plugins.so: unable to open file: libtensorflow_io_plugins.so, from paths: ['/opt/conda/lib/python3.10/site-packages/tensorflow_io/python/ops/libtensorflow_io_plugins.so']\n",
      "caused by: ['/opt/conda/lib/python3.10/site-packages/tensorflow_io/python/ops/libtensorflow_io_plugins.so: undefined symbol: _ZN3tsl6StatusC1EN10tensorflow5error4CodeESt17basic_string_viewIcSt11char_traitsIcEENS_14SourceLocationE']\n",
      "  warnings.warn(f\"unable to load libtensorflow_io_plugins.so: {e}\")\n",
      "/opt/conda/lib/python3.10/site-packages/tensorflow_io/python/ops/__init__.py:104: UserWarning: file system plugins are not loaded: unable to open file: libtensorflow_io.so, from paths: ['/opt/conda/lib/python3.10/site-packages/tensorflow_io/python/ops/libtensorflow_io.so']\n",
      "caused by: ['/opt/conda/lib/python3.10/site-packages/tensorflow_io/python/ops/libtensorflow_io.so: undefined symbol: _ZTVN10tensorflow13GcsFileSystemE']\n",
      "  warnings.warn(f\"file system plugins are not loaded: {e}\")\n"
     ]
    }
   ],
   "source": [
    "import pandas as pd\n",
    "import numpy as np\n",
    "from sklearn.model_selection import train_test_split\n",
    "from sklearn.preprocessing import StandardScaler\n",
    "from sklearn.neighbors import KNeighborsClassifier\n",
    "from sklearn.multioutput import MultiOutputClassifier\n",
    "from sklearn.metrics import classification_report\n",
    "from tensorflow.keras.models import Sequential\n",
    "from tensorflow.keras.layers import Dense, Dropout\n",
    "try:\n",
    "    from tcn import TCN\n",
    "except: \n",
    "    import sys\n",
    "    !{sys.executable} -m pip install keras-tcn\n",
    "    from tcn import TCN\n",
    "from tensorflow.keras import layers\n",
    "from keras_tuner.tuners import RandomSearch"
   ]
  },
  {
   "cell_type": "code",
   "execution_count": 11,
   "id": "95b84b0a",
   "metadata": {
    "execution": {
     "iopub.execute_input": "2023-06-05T00:47:32.250591Z",
     "iopub.status.busy": "2023-06-05T00:47:32.250053Z",
     "iopub.status.idle": "2023-06-05T00:47:32.265283Z",
     "shell.execute_reply": "2023-06-05T00:47:32.264328Z"
    },
    "papermill": {
     "duration": 0.024929,
     "end_time": "2023-06-05T00:47:32.267179",
     "exception": false,
     "start_time": "2023-06-05T00:47:32.242250",
     "status": "completed"
    },
    "tags": []
   },
   "outputs": [],
   "source": [
    "def createJWASmodel(basePath1, basePath2, fileList1, fileList2):\n",
    "    # Load and concatenate multiple CSV files\n",
    "    dataframes1 = [pd.read_csv('/kaggle/working/pruned_'+basePath1.replace(trainPath, '')+file) for file in fileList1]\n",
    "    data1 = pd.concat(dataframes1)\n",
    "\n",
    "    X1 = data1[['JerkWinAvSqV', 'JerkWinAvSqML', 'JerkWinAvSqAP']]\n",
    "    y1 = data1[['StartHesitation', 'Turn', 'Walking']]\n",
    "    \n",
    "    dataframes2 = [pd.read_csv('/kaggle/working/pruned_'+basePath2.replace(trainPath, '')+file) for file in fileList2]\n",
    "    data2 = pd.concat(dataframes2)\n",
    "\n",
    "    X2 = data2[['JerkWinAvSqV', 'JerkWinAvSqML', 'JerkWinAvSqAP']]\n",
    "    y2 = data2[['StartHesitation', 'Turn', 'Walking']]\n",
    "\n",
    "    X = pd.concat([X1, X2], axis=0)\n",
    "    y = pd.concat([y1, y2], axis=0)\n",
    "    \n",
    "    # Split the data into train and test sets\n",
    "    X_train, X_test, y_train, y_test = train_test_split(X, y, test_size=0.2, random_state=42)\n",
    "\n",
    "    # Scale the input features\n",
    "    scaler = StandardScaler()\n",
    "    X_train = scaler.fit_transform(X_train)\n",
    "    X_test = scaler.transform(X_test)\n",
    "\n",
    "    # Reshape the input data for compatibility with TCN\n",
    "    X_train_reshaped = X_train.reshape(X_train.shape[0], X_train.shape[1], 1)\n",
    "    X_test_reshaped = X_test.reshape(X_test.shape[0], X_test.shape[1], 1)\n",
    "    \n",
    "    def buildModel(hyperParams):\n",
    "        model = Sequential()\n",
    "\n",
    "        model.add(TCN(\n",
    "            hyperParams.Int('units', min_value=32, max_value=256, step=32, default=32),\n",
    "            input_shape=(X_train_reshaped.shape[1], 1)\n",
    "        ))\n",
    "        model.add(Dropout(\n",
    "            hyperParams.Float('dropout', 0, 0.5, step=0.1, default=0.5)\n",
    "        ))\n",
    "        model.add(Dense(3, activation='sigmoid'))\n",
    "\n",
    "        model.compile(\n",
    "            optimizer='adam',\n",
    "            loss='binary_crossentropy',\n",
    "            metrics=['accuracy']\n",
    "        )\n",
    "        return model\n",
    "    \n",
    "    tuner = RandomSearch(\n",
    "    buildModel,\n",
    "    objective='val_accuracy',\n",
    "    max_trials=5,\n",
    "    executions_per_trial=2,\n",
    "    directory='tuner_results',\n",
    "    project_name='tuning_tcn'\n",
    "    )\n",
    "    \n",
    "    tuner.search_space_summary()\n",
    "    tuner.search(X_train_reshaped, y_train, epochs=5, validation_split=0.2, batch_size=512)\n",
    "    best_hyperparameters = tuner.get_best_hyperparameters(num_trials=1)[0]\n",
    "\n",
    "    # Build and train the TCN model\n",
    "    model = buildModel(best_hyperparameters)\n",
    "    model.fit(X_train_reshaped, y_train, epochs=5, batch_size=512, validation_split=0.2)\n",
    "\n",
    "    # Predict on test data and evaluate the performance\n",
    "    y_pred = np.round(model.predict(X_test_reshaped))\n",
    "    print(classification_report(y_test, y_pred, target_names=['StartHesitation', 'Turn', 'Walking']))\n",
    "    return model, scaler"
   ]
  },
  {
   "cell_type": "code",
   "execution_count": 12,
   "id": "89784d23",
   "metadata": {
    "execution": {
     "iopub.execute_input": "2023-06-05T00:47:32.280670Z",
     "iopub.status.busy": "2023-06-05T00:47:32.280386Z",
     "iopub.status.idle": "2023-06-05T05:25:31.230333Z",
     "shell.execute_reply": "2023-06-05T05:25:31.229244Z"
    },
    "papermill": {
     "duration": 16680.516938,
     "end_time": "2023-06-05T05:25:32.790312",
     "exception": false,
     "start_time": "2023-06-05T00:47:32.273374",
     "status": "completed"
    },
    "tags": []
   },
   "outputs": [
    {
     "name": "stdout",
     "output_type": "stream",
     "text": [
      "Trial 5 Complete [01h 28m 42s]\n",
      "val_accuracy: 0.2469417229294777\n",
      "\n",
      "Best val_accuracy So Far: 0.2600162923336029\n",
      "Total elapsed time: 04h 05m 39s\n",
      "Epoch 1/5\n",
      "12692/12692 [==============================] - 326s 25ms/step - loss: 0.3805 - accuracy: 0.2332 - val_loss: 0.3774 - val_accuracy: 0.2372\n",
      "Epoch 2/5\n",
      "12692/12692 [==============================] - 334s 26ms/step - loss: 0.3782 - accuracy: 0.2402 - val_loss: 0.3780 - val_accuracy: 0.2230\n",
      "Epoch 3/5\n",
      "12692/12692 [==============================] - 334s 26ms/step - loss: 0.3776 - accuracy: 0.2439 - val_loss: 0.3771 - val_accuracy: 0.2511\n",
      "Epoch 4/5\n",
      "12692/12692 [==============================] - 333s 26ms/step - loss: 0.3772 - accuracy: 0.2460 - val_loss: 0.3756 - val_accuracy: 0.2464\n",
      "Epoch 5/5\n",
      "12692/12692 [==============================] - 316s 25ms/step - loss: 0.3771 - accuracy: 0.2465 - val_loss: 0.3766 - val_accuracy: 0.2488\n",
      "63459/63459 [==============================] - 186s 3ms/step\n"
     ]
    },
    {
     "name": "stderr",
     "output_type": "stream",
     "text": [
      "/opt/conda/lib/python3.10/site-packages/sklearn/metrics/_classification.py:1344: UndefinedMetricWarning: Precision and F-score are ill-defined and being set to 0.0 in labels with no predicted samples. Use `zero_division` parameter to control this behavior.\n",
      "  _warn_prf(average, modifier, msg_start, len(result))\n"
     ]
    },
    {
     "name": "stdout",
     "output_type": "stream",
     "text": [
      "                 precision    recall  f1-score   support\n",
      "\n",
      "StartHesitation       0.00      0.00      0.00    184130\n",
      "           Turn       0.55      0.06      0.11    453586\n",
      "        Walking       0.00      0.00      0.00    223217\n",
      "\n",
      "      micro avg       0.55      0.03      0.06    860933\n",
      "      macro avg       0.18      0.02      0.04    860933\n",
      "   weighted avg       0.29      0.03      0.06    860933\n",
      "    samples avg       0.01      0.01      0.01    860933\n",
      "\n"
     ]
    },
    {
     "name": "stderr",
     "output_type": "stream",
     "text": [
      "/opt/conda/lib/python3.10/site-packages/sklearn/metrics/_classification.py:1344: UndefinedMetricWarning: Precision and F-score are ill-defined and being set to 0.0 in samples with no predicted labels. Use `zero_division` parameter to control this behavior.\n",
      "  _warn_prf(average, modifier, msg_start, len(result))\n",
      "/opt/conda/lib/python3.10/site-packages/sklearn/metrics/_classification.py:1344: UndefinedMetricWarning: Recall and F-score are ill-defined and being set to 0.0 in samples with no true labels. Use `zero_division` parameter to control this behavior.\n",
      "  _warn_prf(average, modifier, msg_start, len(result))\n"
     ]
    }
   ],
   "source": [
    "# tdcsfogModel, tdcsfogScaler = createJWASmodel(tdcsfogBasePath, tdcsfogSeries)\n",
    "# defogModel, defogScaler = createJWASmodel(defogBasePath, defogSeries)\n",
    "\n",
    "fogModel, fogScaler = createJWASmodel(tdcsfogBasePath, defogBasePath, tdcsfogSeries, defogSeries)"
   ]
  },
  {
   "cell_type": "code",
   "execution_count": 13,
   "id": "477db646",
   "metadata": {
    "execution": {
     "iopub.execute_input": "2023-06-05T05:25:36.847290Z",
     "iopub.status.busy": "2023-06-05T05:25:36.846915Z",
     "iopub.status.idle": "2023-06-05T05:25:36.857375Z",
     "shell.execute_reply": "2023-06-05T05:25:36.856507Z"
    },
    "papermill": {
     "duration": 1.935455,
     "end_time": "2023-06-05T05:25:36.859319",
     "exception": false,
     "start_time": "2023-06-05T05:25:34.923864",
     "status": "completed"
    },
    "tags": []
   },
   "outputs": [],
   "source": [
    "testPath = '/kaggle/input/tlvmc-parkinsons-freezing-gait-prediction/test/'\n",
    "testFileDict = {'defog/02ab235146.csv': 128,'tdcsfog/003f117e14.csv': 100}\n",
    "\n",
    "def processTestingData(testPath, testFileDict):\n",
    "    for fileName, sampleRate in testFileDict.items():\n",
    "        preProcessTdcsfog(testPath, [fileName], '/kaggle/working/processed_test/', sampleRate)\n",
    "\n",
    "def generateFinalPredictions(fileName, finalModel, scaler, outputWriteMode = 'a'):\n",
    "        test_data = pd.read_csv('/kaggle/working/processed_test/'+fileName)\n",
    "\n",
    "        X_test_final = test_data[['JerkWinAvSqV', 'JerkWinAvSqML', 'JerkWinAvSqAP']]\n",
    "\n",
    "        # Scale the input features using the same scaler fit on the training data\n",
    "        X_test_final = scaler.transform(X_test_final)\n",
    "\n",
    "        # Reshape the input data for compatibility with TCN\n",
    "        X_test_final_reshaped = X_test_final.reshape(X_test_final.shape[0], X_test_final.shape[1], 1)\n",
    "\n",
    "        # Predict\n",
    "        y_test_final_pred = np.round(finalModel.predict(X_test_final_reshaped))\n",
    "\n",
    "        # The y_test_final_pred contains the predicted labels for the test files\n",
    "        print(y_test_final_pred)\n",
    "        \n",
    "        patientId = fileName.split('/')[-1].replace('.csv', '')\n",
    "        submissions = pd.DataFrame()\n",
    "        submissions['Id'] = [patientId+'_'+str(x) for x in range (len(y_test_final_pred))]\n",
    "        submissions['StartHesitation'] = y_test_final_pred[:, 0]\n",
    "        submissions['Turn'] = y_test_final_pred[:, 1]\n",
    "        submissions['Walking'] = y_test_final_pred[:, 2]\n",
    "        submissions.to_csv('/kaggle/working/submission.csv', index=False, header=(outputWriteMode == 'w'), mode=outputWriteMode)\n",
    "        \n",
    "        return(y_test_final_pred)\n",
    "    "
   ]
  },
  {
   "cell_type": "code",
   "execution_count": 14,
   "id": "6f24a5d0",
   "metadata": {
    "execution": {
     "iopub.execute_input": "2023-06-05T05:25:40.889733Z",
     "iopub.status.busy": "2023-06-05T05:25:40.889385Z",
     "iopub.status.idle": "2023-06-05T05:25:51.748314Z",
     "shell.execute_reply": "2023-06-05T05:25:51.747169Z"
    },
    "papermill": {
     "duration": 12.876075,
     "end_time": "2023-06-05T05:25:51.751077",
     "exception": false,
     "start_time": "2023-06-05T05:25:38.875002",
     "status": "completed"
    },
    "tags": []
   },
   "outputs": [],
   "source": [
    "initOutputDirectory('/kaggle/working/processed_test')\n",
    "initOutputDirectory('/kaggle/working/processed_test/defog')\n",
    "initOutputDirectory('/kaggle/working/processed_test/tdcsfog')\n",
    "processTestingData(testPath, testFileDict)"
   ]
  },
  {
   "cell_type": "code",
   "execution_count": 15,
   "id": "1775126a",
   "metadata": {
    "execution": {
     "iopub.execute_input": "2023-06-05T05:25:55.801856Z",
     "iopub.status.busy": "2023-06-05T05:25:55.801418Z",
     "iopub.status.idle": "2023-06-05T05:25:55.806406Z",
     "shell.execute_reply": "2023-06-05T05:25:55.805342Z"
    },
    "papermill": {
     "duration": 2.053966,
     "end_time": "2023-06-05T05:25:55.808458",
     "exception": false,
     "start_time": "2023-06-05T05:25:53.754492",
     "status": "completed"
    },
    "tags": []
   },
   "outputs": [],
   "source": [
    "initOutputDirectory('/kaggle/working/output')"
   ]
  },
  {
   "cell_type": "code",
   "execution_count": 16,
   "id": "0d741008",
   "metadata": {
    "execution": {
     "iopub.execute_input": "2023-06-05T05:25:59.860283Z",
     "iopub.status.busy": "2023-06-05T05:25:59.859909Z",
     "iopub.status.idle": "2023-06-05T05:26:34.130528Z",
     "shell.execute_reply": "2023-06-05T05:26:34.129475Z"
    },
    "papermill": {
     "duration": 36.194665,
     "end_time": "2023-06-05T05:26:34.133067",
     "exception": false,
     "start_time": "2023-06-05T05:25:57.938402",
     "status": "completed"
    },
    "tags": []
   },
   "outputs": [
    {
     "name": "stdout",
     "output_type": "stream",
     "text": [
      "8803/8803 [==============================] - 26s 3ms/step\n",
      "[[0. 0. 0.]\n",
      " [0. 0. 0.]\n",
      " [0. 0. 0.]\n",
      " ...\n",
      " [0. 0. 0.]\n",
      " [0. 0. 0.]\n",
      " [0. 0. 0.]]\n"
     ]
    }
   ],
   "source": [
    "finalDefogPred = generateFinalPredictions('defog/02ab235146.csv', fogModel, fogScaler,outputWriteMode = 'w')"
   ]
  },
  {
   "cell_type": "code",
   "execution_count": 17,
   "id": "c429cad8",
   "metadata": {
    "execution": {
     "iopub.execute_input": "2023-06-05T05:26:38.158318Z",
     "iopub.status.busy": "2023-06-05T05:26:38.157942Z",
     "iopub.status.idle": "2023-06-05T05:26:38.889673Z",
     "shell.execute_reply": "2023-06-05T05:26:38.887938Z"
    },
    "papermill": {
     "duration": 2.678777,
     "end_time": "2023-06-05T05:26:38.891743",
     "exception": false,
     "start_time": "2023-06-05T05:26:36.212966",
     "status": "completed"
    },
    "tags": []
   },
   "outputs": [
    {
     "name": "stdout",
     "output_type": "stream",
     "text": [
      "147/147 [==============================] - 1s 3ms/step\n",
      "[[0. 0. 0.]\n",
      " [0. 0. 0.]\n",
      " [0. 0. 0.]\n",
      " ...\n",
      " [0. 0. 0.]\n",
      " [0. 0. 0.]\n",
      " [0. 0. 0.]]\n"
     ]
    }
   ],
   "source": [
    "finalTdcsfogPred = generateFinalPredictions('tdcsfog/003f117e14.csv', fogModel, fogScaler)"
   ]
  }
 ],
 "metadata": {
  "kernelspec": {
   "display_name": "Python 3",
   "language": "python",
   "name": "python3"
  },
  "language_info": {
   "codemirror_mode": {
    "name": "ipython",
    "version": 3
   },
   "file_extension": ".py",
   "mimetype": "text/x-python",
   "name": "python",
   "nbconvert_exporter": "python",
   "pygments_lexer": "ipython3",
   "version": "3.10.10"
  },
  "papermill": {
   "default_parameters": {},
   "duration": 17196.418782,
   "end_time": "2023-06-05T05:26:44.975103",
   "environment_variables": {},
   "exception": null,
   "input_path": "__notebook__.ipynb",
   "output_path": "__notebook__.ipynb",
   "parameters": {},
   "start_time": "2023-06-05T00:40:08.556321",
   "version": "2.4.0"
  }
 },
 "nbformat": 4,
 "nbformat_minor": 5
}
